{
 "cells": [
  {
   "cell_type": "markdown",
   "id": "317ebbf0",
   "metadata": {},
   "source": [
    "### Importing data"
   ]
  },
  {
   "cell_type": "code",
   "execution_count": 63,
   "id": "d1d8ee8f",
   "metadata": {},
   "outputs": [],
   "source": [
    "# Importing the libraries\n",
    "import numpy as np\n",
    "import matplotlib.pyplot as plt\n",
    "import pandas as pd"
   ]
  },
  {
   "cell_type": "code",
   "execution_count": 64,
   "id": "8483371c",
   "metadata": {},
   "outputs": [],
   "source": [
    "# Importing the dataset\n",
    "df = pd.read_excel('exam.xlsx', sheet_name='Ads')"
   ]
  },
  {
   "cell_type": "code",
   "execution_count": 65,
   "id": "4e01b932",
   "metadata": {},
   "outputs": [
    {
     "data": {
      "text/html": [
       "<div>\n",
       "<style scoped>\n",
       "    .dataframe tbody tr th:only-of-type {\n",
       "        vertical-align: middle;\n",
       "    }\n",
       "\n",
       "    .dataframe tbody tr th {\n",
       "        vertical-align: top;\n",
       "    }\n",
       "\n",
       "    .dataframe thead th {\n",
       "        text-align: right;\n",
       "    }\n",
       "</style>\n",
       "<table border=\"1\" class=\"dataframe\">\n",
       "  <thead>\n",
       "    <tr style=\"text-align: right;\">\n",
       "      <th></th>\n",
       "      <th>User ID</th>\n",
       "      <th>Gender</th>\n",
       "      <th>Age</th>\n",
       "      <th>EstimatedSalary</th>\n",
       "      <th>Purchased</th>\n",
       "    </tr>\n",
       "  </thead>\n",
       "  <tbody>\n",
       "    <tr>\n",
       "      <th>0</th>\n",
       "      <td>15624510</td>\n",
       "      <td>Male</td>\n",
       "      <td>19</td>\n",
       "      <td>19000</td>\n",
       "      <td>0</td>\n",
       "    </tr>\n",
       "    <tr>\n",
       "      <th>1</th>\n",
       "      <td>15810944</td>\n",
       "      <td>Male</td>\n",
       "      <td>35</td>\n",
       "      <td>20000</td>\n",
       "      <td>0</td>\n",
       "    </tr>\n",
       "    <tr>\n",
       "      <th>2</th>\n",
       "      <td>15668575</td>\n",
       "      <td>Female</td>\n",
       "      <td>26</td>\n",
       "      <td>43000</td>\n",
       "      <td>0</td>\n",
       "    </tr>\n",
       "    <tr>\n",
       "      <th>3</th>\n",
       "      <td>15603246</td>\n",
       "      <td>Female</td>\n",
       "      <td>27</td>\n",
       "      <td>57000</td>\n",
       "      <td>0</td>\n",
       "    </tr>\n",
       "    <tr>\n",
       "      <th>4</th>\n",
       "      <td>15804002</td>\n",
       "      <td>Male</td>\n",
       "      <td>19</td>\n",
       "      <td>76000</td>\n",
       "      <td>0</td>\n",
       "    </tr>\n",
       "    <tr>\n",
       "      <th>...</th>\n",
       "      <td>...</td>\n",
       "      <td>...</td>\n",
       "      <td>...</td>\n",
       "      <td>...</td>\n",
       "      <td>...</td>\n",
       "    </tr>\n",
       "    <tr>\n",
       "      <th>395</th>\n",
       "      <td>15691863</td>\n",
       "      <td>Female</td>\n",
       "      <td>46</td>\n",
       "      <td>41000</td>\n",
       "      <td>1</td>\n",
       "    </tr>\n",
       "    <tr>\n",
       "      <th>396</th>\n",
       "      <td>15706071</td>\n",
       "      <td>Male</td>\n",
       "      <td>51</td>\n",
       "      <td>23000</td>\n",
       "      <td>1</td>\n",
       "    </tr>\n",
       "    <tr>\n",
       "      <th>397</th>\n",
       "      <td>15654296</td>\n",
       "      <td>Female</td>\n",
       "      <td>50</td>\n",
       "      <td>20000</td>\n",
       "      <td>1</td>\n",
       "    </tr>\n",
       "    <tr>\n",
       "      <th>398</th>\n",
       "      <td>15755018</td>\n",
       "      <td>Male</td>\n",
       "      <td>36</td>\n",
       "      <td>33000</td>\n",
       "      <td>0</td>\n",
       "    </tr>\n",
       "    <tr>\n",
       "      <th>399</th>\n",
       "      <td>15594041</td>\n",
       "      <td>Female</td>\n",
       "      <td>49</td>\n",
       "      <td>36000</td>\n",
       "      <td>1</td>\n",
       "    </tr>\n",
       "  </tbody>\n",
       "</table>\n",
       "<p>400 rows × 5 columns</p>\n",
       "</div>"
      ],
      "text/plain": [
       "      User ID  Gender  Age  EstimatedSalary  Purchased\n",
       "0    15624510    Male   19            19000          0\n",
       "1    15810944    Male   35            20000          0\n",
       "2    15668575  Female   26            43000          0\n",
       "3    15603246  Female   27            57000          0\n",
       "4    15804002    Male   19            76000          0\n",
       "..        ...     ...  ...              ...        ...\n",
       "395  15691863  Female   46            41000          1\n",
       "396  15706071    Male   51            23000          1\n",
       "397  15654296  Female   50            20000          1\n",
       "398  15755018    Male   36            33000          0\n",
       "399  15594041  Female   49            36000          1\n",
       "\n",
       "[400 rows x 5 columns]"
      ]
     },
     "execution_count": 65,
     "metadata": {},
     "output_type": "execute_result"
    }
   ],
   "source": [
    "df"
   ]
  },
  {
   "cell_type": "code",
   "execution_count": 66,
   "id": "dda05516",
   "metadata": {},
   "outputs": [
    {
     "name": "stdout",
     "output_type": "stream",
     "text": [
      "<class 'pandas.core.frame.DataFrame'>\n",
      "RangeIndex: 400 entries, 0 to 399\n",
      "Data columns (total 5 columns):\n",
      " #   Column           Non-Null Count  Dtype \n",
      "---  ------           --------------  ----- \n",
      " 0   User ID          400 non-null    int64 \n",
      " 1   Gender           400 non-null    object\n",
      " 2   Age              400 non-null    int64 \n",
      " 3   EstimatedSalary  400 non-null    int64 \n",
      " 4   Purchased        400 non-null    int64 \n",
      "dtypes: int64(4), object(1)\n",
      "memory usage: 15.8+ KB\n"
     ]
    }
   ],
   "source": [
    "df.info()"
   ]
  },
  {
   "cell_type": "markdown",
   "id": "f8383b29",
   "metadata": {},
   "source": [
    "### Missing data"
   ]
  },
  {
   "cell_type": "code",
   "execution_count": 67,
   "id": "962f9b60",
   "metadata": {},
   "outputs": [
    {
     "data": {
      "text/plain": [
       "User ID             int64\n",
       "Gender             object\n",
       "Age                 int64\n",
       "EstimatedSalary     int64\n",
       "Purchased           int64\n",
       "dtype: object"
      ]
     },
     "execution_count": 67,
     "metadata": {},
     "output_type": "execute_result"
    }
   ],
   "source": [
    "df.dtypes"
   ]
  },
  {
   "cell_type": "code",
   "execution_count": 68,
   "id": "0344014c",
   "metadata": {},
   "outputs": [
    {
     "data": {
      "text/plain": [
       "User ID            0\n",
       "Gender             0\n",
       "Age                0\n",
       "EstimatedSalary    0\n",
       "Purchased          0\n",
       "dtype: int64"
      ]
     },
     "execution_count": 68,
     "metadata": {},
     "output_type": "execute_result"
    }
   ],
   "source": [
    "df.isnull().sum()"
   ]
  },
  {
   "cell_type": "markdown",
   "id": "db146d7f",
   "metadata": {},
   "source": [
    "### Outliers"
   ]
  },
  {
   "cell_type": "code",
   "execution_count": 69,
   "id": "a29caf0e",
   "metadata": {},
   "outputs": [
    {
     "data": {
      "text/html": [
       "<div>\n",
       "<style scoped>\n",
       "    .dataframe tbody tr th:only-of-type {\n",
       "        vertical-align: middle;\n",
       "    }\n",
       "\n",
       "    .dataframe tbody tr th {\n",
       "        vertical-align: top;\n",
       "    }\n",
       "\n",
       "    .dataframe thead th {\n",
       "        text-align: right;\n",
       "    }\n",
       "</style>\n",
       "<table border=\"1\" class=\"dataframe\">\n",
       "  <thead>\n",
       "    <tr style=\"text-align: right;\">\n",
       "      <th></th>\n",
       "      <th>User ID</th>\n",
       "      <th>Age</th>\n",
       "      <th>EstimatedSalary</th>\n",
       "      <th>Purchased</th>\n",
       "    </tr>\n",
       "  </thead>\n",
       "  <tbody>\n",
       "    <tr>\n",
       "      <th>count</th>\n",
       "      <td>4.000000e+02</td>\n",
       "      <td>400.000000</td>\n",
       "      <td>400.000000</td>\n",
       "      <td>400.000000</td>\n",
       "    </tr>\n",
       "    <tr>\n",
       "      <th>mean</th>\n",
       "      <td>1.569154e+07</td>\n",
       "      <td>37.655000</td>\n",
       "      <td>69742.500000</td>\n",
       "      <td>0.357500</td>\n",
       "    </tr>\n",
       "    <tr>\n",
       "      <th>std</th>\n",
       "      <td>7.165832e+04</td>\n",
       "      <td>10.482877</td>\n",
       "      <td>34096.960282</td>\n",
       "      <td>0.479864</td>\n",
       "    </tr>\n",
       "    <tr>\n",
       "      <th>min</th>\n",
       "      <td>1.556669e+07</td>\n",
       "      <td>18.000000</td>\n",
       "      <td>15000.000000</td>\n",
       "      <td>0.000000</td>\n",
       "    </tr>\n",
       "    <tr>\n",
       "      <th>25%</th>\n",
       "      <td>1.562676e+07</td>\n",
       "      <td>29.750000</td>\n",
       "      <td>43000.000000</td>\n",
       "      <td>0.000000</td>\n",
       "    </tr>\n",
       "    <tr>\n",
       "      <th>50%</th>\n",
       "      <td>1.569434e+07</td>\n",
       "      <td>37.000000</td>\n",
       "      <td>70000.000000</td>\n",
       "      <td>0.000000</td>\n",
       "    </tr>\n",
       "    <tr>\n",
       "      <th>75%</th>\n",
       "      <td>1.575036e+07</td>\n",
       "      <td>46.000000</td>\n",
       "      <td>88000.000000</td>\n",
       "      <td>1.000000</td>\n",
       "    </tr>\n",
       "    <tr>\n",
       "      <th>max</th>\n",
       "      <td>1.581524e+07</td>\n",
       "      <td>60.000000</td>\n",
       "      <td>150000.000000</td>\n",
       "      <td>1.000000</td>\n",
       "    </tr>\n",
       "  </tbody>\n",
       "</table>\n",
       "</div>"
      ],
      "text/plain": [
       "            User ID         Age  EstimatedSalary   Purchased\n",
       "count  4.000000e+02  400.000000       400.000000  400.000000\n",
       "mean   1.569154e+07   37.655000     69742.500000    0.357500\n",
       "std    7.165832e+04   10.482877     34096.960282    0.479864\n",
       "min    1.556669e+07   18.000000     15000.000000    0.000000\n",
       "25%    1.562676e+07   29.750000     43000.000000    0.000000\n",
       "50%    1.569434e+07   37.000000     70000.000000    0.000000\n",
       "75%    1.575036e+07   46.000000     88000.000000    1.000000\n",
       "max    1.581524e+07   60.000000    150000.000000    1.000000"
      ]
     },
     "execution_count": 69,
     "metadata": {},
     "output_type": "execute_result"
    }
   ],
   "source": [
    "df.describe()"
   ]
  },
  {
   "cell_type": "code",
   "execution_count": 70,
   "id": "800e8532",
   "metadata": {},
   "outputs": [],
   "source": [
    "# Drop useless\n",
    "df = df.drop(['User ID'], axis='columns', inplace=False)"
   ]
  },
  {
   "cell_type": "code",
   "execution_count": 71,
   "id": "0d01d757",
   "metadata": {},
   "outputs": [],
   "source": [
    "# Function Outliers\n",
    "def outliers(df):\n",
    "    num_var = list(df._get_numeric_data().columns)\n",
    "    for col_names in num_var:\n",
    "        df[col_names] = df[col_names].apply(lambda y: df[col_names].mean()-3*df[col_names].std() \n",
    "                            if y < df[col_names].mean()-3*df[col_names].std() else y)\n",
    "        df[col_names] = df[col_names].apply(lambda y: df[col_names].mean()+3*df[col_names].std() \n",
    "                            if y > df[col_names].mean()+3*df[col_names].std() else y)\n",
    "    return(df)"
   ]
  },
  {
   "cell_type": "code",
   "execution_count": 72,
   "id": "abebc65b",
   "metadata": {},
   "outputs": [
    {
     "data": {
      "text/html": [
       "<div>\n",
       "<style scoped>\n",
       "    .dataframe tbody tr th:only-of-type {\n",
       "        vertical-align: middle;\n",
       "    }\n",
       "\n",
       "    .dataframe tbody tr th {\n",
       "        vertical-align: top;\n",
       "    }\n",
       "\n",
       "    .dataframe thead th {\n",
       "        text-align: right;\n",
       "    }\n",
       "</style>\n",
       "<table border=\"1\" class=\"dataframe\">\n",
       "  <thead>\n",
       "    <tr style=\"text-align: right;\">\n",
       "      <th></th>\n",
       "      <th>Gender</th>\n",
       "      <th>Age</th>\n",
       "      <th>EstimatedSalary</th>\n",
       "      <th>Purchased</th>\n",
       "    </tr>\n",
       "  </thead>\n",
       "  <tbody>\n",
       "    <tr>\n",
       "      <th>0</th>\n",
       "      <td>Male</td>\n",
       "      <td>19</td>\n",
       "      <td>19000</td>\n",
       "      <td>0</td>\n",
       "    </tr>\n",
       "    <tr>\n",
       "      <th>1</th>\n",
       "      <td>Male</td>\n",
       "      <td>35</td>\n",
       "      <td>20000</td>\n",
       "      <td>0</td>\n",
       "    </tr>\n",
       "    <tr>\n",
       "      <th>2</th>\n",
       "      <td>Female</td>\n",
       "      <td>26</td>\n",
       "      <td>43000</td>\n",
       "      <td>0</td>\n",
       "    </tr>\n",
       "    <tr>\n",
       "      <th>3</th>\n",
       "      <td>Female</td>\n",
       "      <td>27</td>\n",
       "      <td>57000</td>\n",
       "      <td>0</td>\n",
       "    </tr>\n",
       "    <tr>\n",
       "      <th>4</th>\n",
       "      <td>Male</td>\n",
       "      <td>19</td>\n",
       "      <td>76000</td>\n",
       "      <td>0</td>\n",
       "    </tr>\n",
       "    <tr>\n",
       "      <th>...</th>\n",
       "      <td>...</td>\n",
       "      <td>...</td>\n",
       "      <td>...</td>\n",
       "      <td>...</td>\n",
       "    </tr>\n",
       "    <tr>\n",
       "      <th>395</th>\n",
       "      <td>Female</td>\n",
       "      <td>46</td>\n",
       "      <td>41000</td>\n",
       "      <td>1</td>\n",
       "    </tr>\n",
       "    <tr>\n",
       "      <th>396</th>\n",
       "      <td>Male</td>\n",
       "      <td>51</td>\n",
       "      <td>23000</td>\n",
       "      <td>1</td>\n",
       "    </tr>\n",
       "    <tr>\n",
       "      <th>397</th>\n",
       "      <td>Female</td>\n",
       "      <td>50</td>\n",
       "      <td>20000</td>\n",
       "      <td>1</td>\n",
       "    </tr>\n",
       "    <tr>\n",
       "      <th>398</th>\n",
       "      <td>Male</td>\n",
       "      <td>36</td>\n",
       "      <td>33000</td>\n",
       "      <td>0</td>\n",
       "    </tr>\n",
       "    <tr>\n",
       "      <th>399</th>\n",
       "      <td>Female</td>\n",
       "      <td>49</td>\n",
       "      <td>36000</td>\n",
       "      <td>1</td>\n",
       "    </tr>\n",
       "  </tbody>\n",
       "</table>\n",
       "<p>400 rows × 4 columns</p>\n",
       "</div>"
      ],
      "text/plain": [
       "     Gender  Age  EstimatedSalary  Purchased\n",
       "0      Male   19            19000          0\n",
       "1      Male   35            20000          0\n",
       "2    Female   26            43000          0\n",
       "3    Female   27            57000          0\n",
       "4      Male   19            76000          0\n",
       "..      ...  ...              ...        ...\n",
       "395  Female   46            41000          1\n",
       "396    Male   51            23000          1\n",
       "397  Female   50            20000          1\n",
       "398    Male   36            33000          0\n",
       "399  Female   49            36000          1\n",
       "\n",
       "[400 rows x 4 columns]"
      ]
     },
     "execution_count": 72,
     "metadata": {},
     "output_type": "execute_result"
    }
   ],
   "source": [
    "# Outliers\n",
    "df = outliers(df)\n",
    "df"
   ]
  },
  {
   "cell_type": "markdown",
   "id": "91de7c14",
   "metadata": {},
   "source": [
    "### Encoding"
   ]
  },
  {
   "cell_type": "code",
   "execution_count": 73,
   "id": "4e814bc3",
   "metadata": {},
   "outputs": [
    {
     "data": {
      "text/html": [
       "<div>\n",
       "<style scoped>\n",
       "    .dataframe tbody tr th:only-of-type {\n",
       "        vertical-align: middle;\n",
       "    }\n",
       "\n",
       "    .dataframe tbody tr th {\n",
       "        vertical-align: top;\n",
       "    }\n",
       "\n",
       "    .dataframe thead th {\n",
       "        text-align: right;\n",
       "    }\n",
       "</style>\n",
       "<table border=\"1\" class=\"dataframe\">\n",
       "  <thead>\n",
       "    <tr style=\"text-align: right;\">\n",
       "      <th></th>\n",
       "      <th>col</th>\n",
       "      <th>nunique</th>\n",
       "      <th>unique</th>\n",
       "      <th>type</th>\n",
       "    </tr>\n",
       "  </thead>\n",
       "  <tbody>\n",
       "    <tr>\n",
       "      <th>0</th>\n",
       "      <td>Gender</td>\n",
       "      <td>2</td>\n",
       "      <td>[Male, Female]</td>\n",
       "      <td>object</td>\n",
       "    </tr>\n",
       "  </tbody>\n",
       "</table>\n",
       "</div>"
      ],
      "text/plain": [
       "      col  nunique          unique    type\n",
       "0  Gender        2  [Male, Female]  object"
      ]
     },
     "execution_count": 73,
     "metadata": {},
     "output_type": "execute_result"
    }
   ],
   "source": [
    "# Cheking categorical data\n",
    "dfs = df[['Gender']]\n",
    "info = []\n",
    "for column in dfs.columns:\n",
    "        vals = {\"col\": column,\n",
    "                \"nunique\": dfs[column].nunique(),\n",
    "                \"unique\": dfs[column].unique(),\n",
    "                \"type\": dfs[column].dtype\n",
    "               }\n",
    "        info.append(vals)\n",
    "pd.DataFrame(info).sort_values(by = \"col\", ascending = False)"
   ]
  },
  {
   "cell_type": "code",
   "execution_count": 74,
   "id": "a154058f",
   "metadata": {},
   "outputs": [
    {
     "data": {
      "text/html": [
       "<div>\n",
       "<style scoped>\n",
       "    .dataframe tbody tr th:only-of-type {\n",
       "        vertical-align: middle;\n",
       "    }\n",
       "\n",
       "    .dataframe tbody tr th {\n",
       "        vertical-align: top;\n",
       "    }\n",
       "\n",
       "    .dataframe thead th {\n",
       "        text-align: right;\n",
       "    }\n",
       "</style>\n",
       "<table border=\"1\" class=\"dataframe\">\n",
       "  <thead>\n",
       "    <tr style=\"text-align: right;\">\n",
       "      <th></th>\n",
       "      <th>Gender</th>\n",
       "      <th>Age</th>\n",
       "      <th>EstimatedSalary</th>\n",
       "      <th>Purchased</th>\n",
       "    </tr>\n",
       "  </thead>\n",
       "  <tbody>\n",
       "    <tr>\n",
       "      <th>0</th>\n",
       "      <td>0</td>\n",
       "      <td>19</td>\n",
       "      <td>19000</td>\n",
       "      <td>0</td>\n",
       "    </tr>\n",
       "    <tr>\n",
       "      <th>1</th>\n",
       "      <td>0</td>\n",
       "      <td>35</td>\n",
       "      <td>20000</td>\n",
       "      <td>0</td>\n",
       "    </tr>\n",
       "    <tr>\n",
       "      <th>2</th>\n",
       "      <td>1</td>\n",
       "      <td>26</td>\n",
       "      <td>43000</td>\n",
       "      <td>0</td>\n",
       "    </tr>\n",
       "    <tr>\n",
       "      <th>3</th>\n",
       "      <td>1</td>\n",
       "      <td>27</td>\n",
       "      <td>57000</td>\n",
       "      <td>0</td>\n",
       "    </tr>\n",
       "    <tr>\n",
       "      <th>4</th>\n",
       "      <td>0</td>\n",
       "      <td>19</td>\n",
       "      <td>76000</td>\n",
       "      <td>0</td>\n",
       "    </tr>\n",
       "    <tr>\n",
       "      <th>...</th>\n",
       "      <td>...</td>\n",
       "      <td>...</td>\n",
       "      <td>...</td>\n",
       "      <td>...</td>\n",
       "    </tr>\n",
       "    <tr>\n",
       "      <th>395</th>\n",
       "      <td>1</td>\n",
       "      <td>46</td>\n",
       "      <td>41000</td>\n",
       "      <td>1</td>\n",
       "    </tr>\n",
       "    <tr>\n",
       "      <th>396</th>\n",
       "      <td>0</td>\n",
       "      <td>51</td>\n",
       "      <td>23000</td>\n",
       "      <td>1</td>\n",
       "    </tr>\n",
       "    <tr>\n",
       "      <th>397</th>\n",
       "      <td>1</td>\n",
       "      <td>50</td>\n",
       "      <td>20000</td>\n",
       "      <td>1</td>\n",
       "    </tr>\n",
       "    <tr>\n",
       "      <th>398</th>\n",
       "      <td>0</td>\n",
       "      <td>36</td>\n",
       "      <td>33000</td>\n",
       "      <td>0</td>\n",
       "    </tr>\n",
       "    <tr>\n",
       "      <th>399</th>\n",
       "      <td>1</td>\n",
       "      <td>49</td>\n",
       "      <td>36000</td>\n",
       "      <td>1</td>\n",
       "    </tr>\n",
       "  </tbody>\n",
       "</table>\n",
       "<p>400 rows × 4 columns</p>\n",
       "</div>"
      ],
      "text/plain": [
       "     Gender  Age  EstimatedSalary  Purchased\n",
       "0         0   19            19000          0\n",
       "1         0   35            20000          0\n",
       "2         1   26            43000          0\n",
       "3         1   27            57000          0\n",
       "4         0   19            76000          0\n",
       "..      ...  ...              ...        ...\n",
       "395       1   46            41000          1\n",
       "396       0   51            23000          1\n",
       "397       1   50            20000          1\n",
       "398       0   36            33000          0\n",
       "399       1   49            36000          1\n",
       "\n",
       "[400 rows x 4 columns]"
      ]
     },
     "execution_count": 74,
     "metadata": {},
     "output_type": "execute_result"
    }
   ],
   "source": [
    "# Encoding\n",
    "Gen = {'Male':0,'Female':1}\n",
    "df['Gender'] = df['Gender'].map(Gen)\n",
    "df"
   ]
  },
  {
   "cell_type": "markdown",
   "id": "33ceeb6b",
   "metadata": {},
   "source": [
    "### Correlation"
   ]
  },
  {
   "cell_type": "code",
   "execution_count": 75,
   "id": "58a2a162",
   "metadata": {},
   "outputs": [
    {
     "data": {
      "image/png": "[encoded data removed]",
      "text/plain": [
       "<Figure size 864x648 with 2 Axes>"
      ]
     },
     "metadata": {
      "needs_background": "light"
     },
     "output_type": "display_data"
    }
   ],
   "source": [
    "# Cheking correlations\n",
    "import seaborn as sns\n",
    "corrmat = df.corr()\n",
    "f, ax = plt.subplots(figsize=(12, 9))\n",
    "sns.heatmap(corrmat, annot=True)\n",
    "plt.show()"
   ]
  },
  {
   "cell_type": "markdown",
   "id": "a54cd06e",
   "metadata": {},
   "source": [
    "### Splitting"
   ]
  },
  {
   "cell_type": "code",
   "execution_count": 76,
   "id": "c21a822c",
   "metadata": {},
   "outputs": [],
   "source": [
    "# Splitting the dataset into the Training set and Test set\n",
    "\n",
    "f = ['Age','EstimatedSalary']\n",
    "X = df[f]\n",
    "y = df['Purchased']\n",
    "\n",
    "\n",
    "from sklearn.model_selection import train_test_split\n",
    "X_train, X_test, y_train, y_test = train_test_split(X, y, test_size=0.2, random_state=13)"
   ]
  },
  {
   "cell_type": "markdown",
   "id": "9e284e9a",
   "metadata": {},
   "source": [
    "Выбираю для 'у' - 'Purchased', так как скорее всего заказчика будет интересовать именно эти значения, а для 'х' - 'Age' и 'EstimatedSalary', так как у них адекватная корреляция с 'Purchased'."
   ]
  },
  {
   "cell_type": "code",
   "execution_count": 77,
   "id": "f1b06ed6",
   "metadata": {},
   "outputs": [],
   "source": [
    "df.to_csv('prepeared.csv', sep=',', index=False)"
   ]
  },
  {
   "cell_type": "markdown",
   "id": "4e0a23e2",
   "metadata": {},
   "source": [
    "### Logistic Regression"
   ]
  },
  {
   "cell_type": "code",
   "execution_count": 78,
   "id": "69dcfe6b",
   "metadata": {},
   "outputs": [],
   "source": [
    "# Feature Scaling\n",
    "from sklearn.preprocessing import StandardScaler\n",
    "sc_X = StandardScaler().fit(X_train)\n",
    "X_train = sc_X.transform(X_train)\n",
    "X_test = sc_X.transform(X_test)"
   ]
  },
  {
   "cell_type": "markdown",
   "id": "f65a445c",
   "metadata": {},
   "source": [
    "### Feature Selection\n"
   ]
  },
  {
   "cell_type": "code",
   "execution_count": 79,
   "id": "2b4284a1",
   "metadata": {},
   "outputs": [
    {
     "name": "stdout",
     "output_type": "stream",
     "text": [
      "Optimization terminated successfully.\n",
      "         Current function value: 0.382154\n",
      "         Iterations 7\n",
      "                         Results: Logit\n",
      "=================================================================\n",
      "Model:              Logit            Pseudo R-squared: 0.422     \n",
      "Dependent Variable: Purchased        AIC:              248.5786  \n",
      "Date:               2022-01-04 11:23 BIC:              256.1153  \n",
      "No. Observations:   320              Log-Likelihood:   -122.29   \n",
      "Df Model:           1                LL-Null:          -211.70   \n",
      "Df Residuals:       318              LLR p-value:      8.7633e-41\n",
      "Converged:          1.0000           Scale:            1.0000    \n",
      "No. Iterations:     7.0000                                       \n",
      "--------------------------------------------------------------------\n",
      "          Coef.     Std.Err.      z       P>|z|     [0.025    0.975]\n",
      "--------------------------------------------------------------------\n",
      "x1        2.2971      0.2852    8.0545    0.0000    1.7381    2.8560\n",
      "x2        1.4408      0.2259    6.3774    0.0000    0.9980    1.8836\n",
      "=================================================================\n",
      "\n"
     ]
    }
   ],
   "source": [
    "# Baseline model\n",
    "import statsmodels.api as sm\n",
    "lr = sm.Logit(y_train, X_train).fit()\n",
    "print(lr.summary2())"
   ]
  },
  {
   "cell_type": "code",
   "execution_count": 80,
   "id": "5e0cb13a",
   "metadata": {
    "scrolled": false
   },
   "outputs": [
    {
     "name": "stdout",
     "output_type": "stream",
     "text": [
      "2\n",
      "[ True  True]\n",
      "[1 1]\n"
     ]
    }
   ],
   "source": [
    "# Automatic Feature Selection\n",
    "from sklearn.feature_selection import RFECV\n",
    "from sklearn.linear_model import LogisticRegression\n",
    "estimator=LogisticRegression()\n",
    "selector=RFECV(estimator, step=1)\n",
    "selector=selector.fit(X_train, y_train)\n",
    "print(selector.n_features_)\n",
    "print(selector.support_)\n",
    "print(selector.ranking_)"
   ]
  },
  {
   "cell_type": "markdown",
   "id": "92d00bbf",
   "metadata": {},
   "source": [
    "### Fitting Logistic Regression"
   ]
  },
  {
   "cell_type": "code",
   "execution_count": 82,
   "id": "f3122d53",
   "metadata": {},
   "outputs": [],
   "source": [
    "# Leaving only Selected Features\n",
    "X_train_select=X_train[:,[True,  True]]\n",
    "X_test_select=X_test[:,[True,  True]]"
   ]
  },
  {
   "cell_type": "code",
   "execution_count": 83,
   "id": "ed1a3ed0",
   "metadata": {},
   "outputs": [
    {
     "data": {
      "text/plain": [
       "array([[ 0.3910582 ,  2.30610793],\n",
       "       [ 0.77199769, -1.13266381],\n",
       "       [-1.41840439, -0.22153626],\n",
       "       [ 0.01011871, -0.57423079],\n",
       "       [-1.79934388,  0.4250704 ],\n",
       "       [-0.27558591,  0.04298465],\n",
       "       [ 0.86723256,  1.24802432],\n",
       "       [-1.32316952, -0.36849231],\n",
       "       [-0.27558591, -0.60362201],\n",
       "       [-1.70410901, -0.63301322],\n",
       "       [-1.79934388, -1.30901108],\n",
       "       [ 0.77199769,  0.74837372],\n",
       "       [-1.13269977, -1.63231441],\n",
       "       [-0.46605566, -0.80936049],\n",
       "       [ 1.4386418 ,  0.33689676],\n",
       "       [-1.0374649 , -0.36849231],\n",
       "       [ 0.48629307,  1.7182837 ],\n",
       "       [-1.13269977,  0.27811434],\n",
       "       [-1.60887413, -0.0745802 ],\n",
       "       [-0.18035104, -0.30970989],\n",
       "       [ 2.10528591, -0.72118685],\n",
       "       [-1.13269977, -1.57353198],\n",
       "       [-0.94223002, -0.98570775],\n",
       "       [ 1.53387667,  0.98350341],\n",
       "       [ 0.86723256, -1.39718472],\n",
       "       [-1.22793464,  0.24872313],\n",
       "       [ 0.29582332, -0.54483958],\n",
       "       [-1.70410901, -1.01509897],\n",
       "       [-0.27558591, -1.27961987],\n",
       "       [-0.46605566, -1.16205502],\n",
       "       [-0.08511617, -0.25092747],\n",
       "       [ 0.77199769,  1.36558916],\n",
       "       [-1.0374649 ,  0.57202645],\n",
       "       [ 1.05770231,  0.45446161],\n",
       "       [-0.27558591, -0.16275383],\n",
       "       [-0.94223002,  1.54193643],\n",
       "       [-0.84699515, -0.28031868],\n",
       "       [-0.6565254 ,  0.16054949],\n",
       "       [ 0.96246743,  0.57202645],\n",
       "       [-0.6565254 ,  0.10176707],\n",
       "       [-0.08511617, -0.01579778],\n",
       "       [ 1.05770231,  2.07097824],\n",
       "       [-1.79934388, -1.51474956],\n",
       "       [-0.27558591, -1.42657593],\n",
       "       [ 2.01005104,  1.74767491],\n",
       "       [ 2.01005104, -0.8387517 ],\n",
       "       [-1.41840439, -0.13336262],\n",
       "       [-1.51363926,  0.30750555],\n",
       "       [-0.27558591,  0.51324403],\n",
       "       [-0.75176028,  0.27811434],\n",
       "       [-1.51363926, -0.22153626],\n",
       "       [-0.27558591, -1.39718472],\n",
       "       [ 1.53387667, -0.01579778],\n",
       "       [ 0.67676282, -0.75057806],\n",
       "       [ 0.29582332,  0.27811434],\n",
       "       [-1.13269977,  0.27811434],\n",
       "       [ 0.77199769,  0.51324403],\n",
       "       [ 0.29582332, -0.22153626],\n",
       "       [ 1.53387667,  1.10106826],\n",
       "       [ 0.86723256, -0.69179564],\n",
       "       [ 2.10528591, -0.8387517 ],\n",
       "       [ 0.20058845, -0.30970989],\n",
       "       [ 2.10528591,  0.92472099],\n",
       "       [ 0.86723256, -0.57423079],\n",
       "       [-0.46605566, -0.57423079],\n",
       "       [ 0.29582332, -0.75057806],\n",
       "       [-0.08511617,  0.04298465],\n",
       "       [ 0.67676282, -1.42657593],\n",
       "       [-0.84699515,  0.36628797],\n",
       "       [ 1.81958129, -1.30901108],\n",
       "       [-1.22793464,  0.27811434],\n",
       "       [ 0.29582332, -0.54483958],\n",
       "       [-0.75176028, -1.63231441],\n",
       "       [-1.13269977,  0.45446161],\n",
       "       [-0.75176028, -0.25092747],\n",
       "       [ 2.10528591,  1.10106826],\n",
       "       [ 1.62911154, -0.92692533],\n",
       "       [ 1.4386418 ,  0.04298465],\n",
       "       [ 2.01005104,  0.16054949],\n",
       "       [ 1.34340693,  1.9828046 ],\n",
       "       [ 0.10535358,  0.01359344],\n",
       "       [-1.32316952, -0.45666595],\n",
       "       [ 1.72434642, -0.30970989],\n",
       "       [-1.89457875,  0.45446161],\n",
       "       [-0.56129053,  1.4537628 ],\n",
       "       [ 1.05770231, -0.92692533],\n",
       "       [-0.27558591,  1.10106826],\n",
       "       [ 0.3910582 ,  1.10106826],\n",
       "       [ 0.96246743,  1.9828046 ],\n",
       "       [-1.0374649 , -0.36849231],\n",
       "       [-1.13269977,  0.39567918],\n",
       "       [-0.75176028,  0.24872313],\n",
       "       [ 0.86723256, -1.07388139],\n",
       "       [ 0.67676282, -1.30901108],\n",
       "       [-0.46605566, -1.25022866],\n",
       "       [-0.18035104, -0.22153626],\n",
       "       [ 0.10535358,  1.51254522],\n",
       "       [ 0.10535358,  0.1899407 ],\n",
       "       [-0.27558591, -0.92692533],\n",
       "       [ 0.01011871, -0.3391011 ],\n",
       "       [ 0.77199769,  0.24872313],\n",
       "       [-0.75176028, -1.57353198],\n",
       "       [ 0.29582332,  0.24872313],\n",
       "       [-0.94223002,  0.4250704 ],\n",
       "       [ 1.15293718,  0.51324403],\n",
       "       [-0.84699515,  0.13115828],\n",
       "       [-0.18035104,  1.63011007],\n",
       "       [-0.27558591,  0.13115828],\n",
       "       [ 0.86723256,  2.15915187],\n",
       "       [-1.0374649 , -1.57353198],\n",
       "       [ 0.96246743, -1.04449018],\n",
       "       [ 0.96246743,  2.07097824],\n",
       "       [-1.79934388,  0.16054949],\n",
       "       [ 1.4386418 ,  0.98350341],\n",
       "       [ 0.67676282, -1.13266381],\n",
       "       [ 1.91481616, -0.69179564],\n",
       "       [-1.32316952, -0.45666595],\n",
       "       [-1.0374649 , -1.48535835],\n",
       "       [ 1.81958129, -1.1032726 ],\n",
       "       [-1.22793464,  0.57202645],\n",
       "       [-1.79934388, -0.01579778],\n",
       "       [ 0.10535358, -0.8387517 ],\n",
       "       [ 0.86723256, -0.80936049],\n",
       "       [-0.08511617,  1.95341339],\n",
       "       [-0.27558591,  0.07237586],\n",
       "       [-0.84699515, -0.80936049],\n",
       "       [-0.6565254 ,  0.01359344],\n",
       "       [-1.0374649 , -1.16205502],\n",
       "       [ 0.3910582 ,  0.24872313],\n",
       "       [-0.27558591, -0.3391011 ],\n",
       "       [-0.94223002,  0.54263524],\n",
       "       [ 2.01005104,  0.36628797],\n",
       "       [-0.27558591,  0.13115828],\n",
       "       [-0.84699515, -1.25022866],\n",
       "       [-0.08511617,  0.27811434],\n",
       "       [-1.13269977,  0.04298465],\n",
       "       [-0.46605566, -0.86814291],\n",
       "       [-1.13269977, -1.63231441],\n",
       "       [ 2.10528591,  0.36628797],\n",
       "       [ 1.05770231, -0.16275383],\n",
       "       [-1.60887413,  0.51324403],\n",
       "       [-1.0374649 ,  0.39567918],\n",
       "       [ 1.81958129,  0.10176707],\n",
       "       [-0.08511617,  0.27811434],\n",
       "       [ 0.96246743,  0.10176707],\n",
       "       [ 0.29582332,  0.04298465],\n",
       "       [ 1.05770231,  0.10176707],\n",
       "       [-0.56129053,  1.89463097],\n",
       "       [-0.46605566, -0.30970989],\n",
       "       [-0.08511617, -0.51544837],\n",
       "       [ 0.29582332,  0.01359344],\n",
       "       [-0.27558591, -0.39788353],\n",
       "       [ 0.96246743,  1.86523976],\n",
       "       [-0.27558591,  0.01359344],\n",
       "       [ 1.24817205,  2.2179343 ],\n",
       "       [-1.41840439, -1.48535835],\n",
       "       [ 0.67676282, -1.42657593],\n",
       "       [ 0.3910582 , -0.48605716],\n",
       "       [ 2.01005104,  2.12976066],\n",
       "       [-0.27558591,  0.60141766],\n",
       "       [ 1.62911154,  1.74767491],\n",
       "       [-0.75176028,  0.54263524],\n",
       "       [-0.27558591, -0.77996927],\n",
       "       [ 0.3910582 , -0.01579778],\n",
       "       [-0.08511617, -0.39788353],\n",
       "       [ 0.20058845, -0.28031868],\n",
       "       [ 0.10535358, -0.3391011 ],\n",
       "       [ 1.81958129, -0.30970989],\n",
       "       [-1.60887413, -1.6029232 ],\n",
       "       [ 0.29582332, -0.57423079],\n",
       "       [-0.84699515,  0.27811434],\n",
       "       [ 1.15293718, -0.77996927],\n",
       "       [-1.41840439, -1.25022866],\n",
       "       [-0.84699515,  2.27671672],\n",
       "       [-0.27558591,  0.24872313],\n",
       "       [ 0.20058845,  0.04298465],\n",
       "       [-0.18035104, -0.54483958],\n",
       "       [ 0.20058845,  0.13115828],\n",
       "       [ 0.01011871,  1.24802432],\n",
       "       [-1.70410901, -1.39718472],\n",
       "       [-0.37082079,  1.30680674],\n",
       "       [-0.27558591,  0.04298465],\n",
       "       [-1.32316952,  0.54263524],\n",
       "       [ 0.96246743, -1.22083745],\n",
       "       [ 0.20058845, -0.39788353],\n",
       "       [ 0.3910582 , -0.51544837],\n",
       "       [-0.27558591, -1.33840229],\n",
       "       [-0.18035104, -0.48605716],\n",
       "       [ 1.34340693,  2.33549914],\n",
       "       [ 0.77199769, -1.42657593],\n",
       "       [-0.08511617, -0.54483958],\n",
       "       [-0.56129053,  1.36558916],\n",
       "       [-0.37082079,  0.04298465],\n",
       "       [ 2.10528591, -1.07388139],\n",
       "       [ 0.20058845, -0.16275383],\n",
       "       [ 0.20058845,  0.01359344],\n",
       "       [-1.70410901,  0.33689676],\n",
       "       [ 1.05770231, -1.25022866],\n",
       "       [ 0.86723256, -0.63301322],\n",
       "       [-0.56129053,  0.45446161],\n",
       "       [-1.22793464, -1.1032726 ],\n",
       "       [-0.6565254 ,  0.54263524],\n",
       "       [-0.84699515,  0.36628797],\n",
       "       [ 0.20058845,  0.13115828],\n",
       "       [ 0.77199769, -0.86814291],\n",
       "       [-0.27558591, -0.60362201],\n",
       "       [ 1.81958129,  1.51254522],\n",
       "       [-1.89457875,  0.33689676],\n",
       "       [-0.46605566,  2.30610793],\n",
       "       [ 0.20058845,  2.10036945],\n",
       "       [-0.18035104, -1.1032726 ],\n",
       "       [ 0.29582332,  0.48385282],\n",
       "       [-1.0374649 ,  1.95341339],\n",
       "       [ 1.34340693, -1.45596714],\n",
       "       [ 0.20058845,  1.07167705],\n",
       "       [-1.51363926, -1.27961987],\n",
       "       [-0.08511617,  2.2179343 ],\n",
       "       [-1.13269977,  0.30750555],\n",
       "       [-0.75176028,  0.48385282],\n",
       "       [-0.75176028,  1.89463097],\n",
       "       [-0.08511617,  0.01359344],\n",
       "       [ 1.91481616,  0.89532978],\n",
       "       [-1.0374649 , -0.48605716],\n",
       "       [-1.79934388, -1.45596714],\n",
       "       [-1.41840439, -0.66240443],\n",
       "       [ 0.10535358,  1.86523976],\n",
       "       [ 0.3910582 ,  0.57202645],\n",
       "       [ 0.58152794, -0.92692533],\n",
       "       [-1.32316952, -1.39718472],\n",
       "       [-0.75176028,  1.07167705],\n",
       "       [-0.08511617,  0.66020009],\n",
       "       [ 1.24817205, -1.39718472],\n",
       "       [-0.27558591, -0.28031868],\n",
       "       [-1.0374649 , -0.39788353],\n",
       "       [-0.94223002, -1.13266381],\n",
       "       [-0.75176028,  1.33619795],\n",
       "       [-0.27558591,  0.1899407 ],\n",
       "       [ 0.01011871, -0.28031868],\n",
       "       [ 0.29582332, -0.30970989],\n",
       "       [ 0.01011871,  0.01359344],\n",
       "       [ 1.05770231,  0.54263524],\n",
       "       [-1.32316952, -1.13266381],\n",
       "       [-0.94223002,  0.24872313],\n",
       "       [-0.37082079, -0.80936049],\n",
       "       [-0.08511617,  0.13115828],\n",
       "       [-0.46605566, -0.04518899],\n",
       "       [ 1.4386418 ,  2.12976066],\n",
       "       [ 0.01011871, -0.60362201],\n",
       "       [-0.56129053,  1.36558916],\n",
       "       [ 1.05770231, -1.25022866],\n",
       "       [-0.37082079, -1.33840229],\n",
       "       [ 0.86723256, -1.48535835],\n",
       "       [ 1.91481616,  2.15915187],\n",
       "       [-0.08511617,  0.24872313],\n",
       "       [-1.89457875, -0.0745802 ],\n",
       "       [-0.18035104,  1.39498037],\n",
       "       [ 0.10535358,  0.13115828],\n",
       "       [ 0.77199769, -0.3391011 ],\n",
       "       [ 0.10535358, -0.8387517 ],\n",
       "       [-0.6565254 , -0.36849231],\n",
       "       [ 0.96246743, -1.1032726 ],\n",
       "       [ 0.48629307,  1.21863311],\n",
       "       [-0.37082079, -0.80936049],\n",
       "       [ 0.20058845,  0.21933192],\n",
       "       [-0.6565254 ,  1.39498037],\n",
       "       [ 0.29582332,  0.04298465],\n",
       "       [-0.18035104,  2.15915187],\n",
       "       [ 0.29582332, -1.19144624],\n",
       "       [-0.08511617,  2.15915187],\n",
       "       [-1.32316952,  0.39567918],\n",
       "       [-0.27558591, -0.45666595],\n",
       "       [ 1.34340693, -0.95631654],\n",
       "       [ 0.77199769,  0.10176707],\n",
       "       [-0.94223002, -0.3391011 ],\n",
       "       [-1.51363926, -0.45666595],\n",
       "       [ 0.01011871, -0.16275383],\n",
       "       [ 1.72434642,  0.98350341],\n",
       "       [ 0.86723256, -0.60362201],\n",
       "       [ 1.62911154,  1.60071885],\n",
       "       [-0.27558591, -0.51544837],\n",
       "       [ 0.3910582 ,  0.13115828],\n",
       "       [-0.08511617, -0.45666595],\n",
       "       [ 1.34340693,  0.57202645],\n",
       "       [ 0.77199769, -1.39718472],\n",
       "       [ 0.3910582 , -0.48605716],\n",
       "       [-0.27558591, -0.36849231],\n",
       "       [ 0.86723256,  1.01289463],\n",
       "       [-0.6565254 , -1.07388139],\n",
       "       [-0.18035104,  0.13115828],\n",
       "       [-1.13269977, -1.6029232 ],\n",
       "       [ 0.10535358,  1.86523976],\n",
       "       [ 0.96246743, -0.86814291],\n",
       "       [ 0.10535358,  0.24872313],\n",
       "       [ 0.3910582 , -0.16275383],\n",
       "       [ 0.3910582 ,  0.07237586],\n",
       "       [-1.13269977, -0.54483958],\n",
       "       [ 2.01005104,  0.51324403],\n",
       "       [-1.0374649 ,  0.74837372],\n",
       "       [-0.27558591, -1.48535835],\n",
       "       [-0.37082079,  1.21863311],\n",
       "       [-1.79934388, -1.33840229],\n",
       "       [-1.70410901,  0.10176707],\n",
       "       [-0.56129053,  0.86593857],\n",
       "       [ 1.91481616,  0.71898251],\n",
       "       [-0.18035104,  1.60071885],\n",
       "       [ 0.96246743,  1.42437159],\n",
       "       [ 0.86723256,  1.07167705],\n",
       "       [ 1.15293718, -1.48535835],\n",
       "       [ 0.3910582 ,  0.27811434],\n",
       "       [ 0.3910582 , -0.16275383],\n",
       "       [ 2.10528591, -0.8387517 ],\n",
       "       [ 0.20058845, -0.39788353],\n",
       "       [-0.18035104, -0.60362201],\n",
       "       [ 0.29582332,  0.04298465],\n",
       "       [-0.18035104,  0.83654736],\n",
       "       [-0.27558591,  2.24732551],\n",
       "       [ 0.86723256, -1.33840229],\n",
       "       [-0.56129053, -1.54414077],\n",
       "       [-0.27558591, -0.69179564],\n",
       "       [ 0.01011871, -0.45666595]])"
      ]
     },
     "execution_count": 83,
     "metadata": {},
     "output_type": "execute_result"
    }
   ],
   "source": [
    "X_train_select"
   ]
  },
  {
   "cell_type": "code",
   "execution_count": 84,
   "id": "f37c51e1",
   "metadata": {},
   "outputs": [],
   "source": [
    "# Fitting Logistic Regression to the Training set \n",
    "from sklearn.linear_model import LogisticRegression\n",
    "lr = LogisticRegression().fit(X_train_select, y_train)"
   ]
  },
  {
   "cell_type": "code",
   "execution_count": 85,
   "id": "d79caefe",
   "metadata": {},
   "outputs": [
    {
     "data": {
      "text/plain": [
       "0.84"
      ]
     },
     "execution_count": 85,
     "metadata": {},
     "output_type": "execute_result"
    }
   ],
   "source": [
    "# Predicting the Test set results\n",
    "y_pred = lr.predict(X_test_select)\n",
    "lr.score(X_test_select,y_test).round(2)"
   ]
  },
  {
   "cell_type": "code",
   "execution_count": 86,
   "id": "b934c648",
   "metadata": {},
   "outputs": [
    {
     "name": "stdout",
     "output_type": "stream",
     "text": [
      "[[50  7]\n",
      " [ 6 17]]\n"
     ]
    }
   ],
   "source": [
    "# Making the Confusion Matrix\n",
    "from sklearn.metrics import confusion_matrix\n",
    "cm = confusion_matrix(y_test, y_pred)\n",
    "print(cm)"
   ]
  },
  {
   "cell_type": "markdown",
   "id": "0fe1e0e4",
   "metadata": {},
   "source": [
    "### Visualising"
   ]
  },
  {
   "cell_type": "code",
   "execution_count": 91,
   "id": "2e317515",
   "metadata": {},
   "outputs": [
    {
     "name": "stderr",
     "output_type": "stream",
     "text": [
      "*c* argument looks like a single numeric RGB or RGBA sequence, which should be avoided as value-mapping will have precedence in case its length matches with *x* & *y*.  Please use the *color* keyword-argument or provide a 2-D array with a single row if you intend to specify the same RGB or RGBA value for all points.\n",
      "*c* argument looks like a single numeric RGB or RGBA sequence, which should be avoided as value-mapping will have precedence in case its length matches with *x* & *y*.  Please use the *color* keyword-argument or provide a 2-D array with a single row if you intend to specify the same RGB or RGBA value for all points.\n"
     ]
    },
    {
     "data": {
      "image/png": "[encoded data removed]",
      "text/plain": [
       "<Figure size 432x288 with 1 Axes>"
      ]
     },
     "metadata": {
      "needs_background": "light"
     },
     "output_type": "display_data"
    }
   ],
   "source": [
    "# Visualising the Test set results\n",
    "from matplotlib.colors import ListedColormap\n",
    "X_set, y_set = X_test, y_test\n",
    "X1, X2 = np.meshgrid(np.arange(start = X_set[:, 0].min() - 1, stop = X_set[:, 0].max() + 1, step = 0.01),\n",
    "                     np.arange(start = X_set[:, 1].min() - 1, stop = X_set[:, 1].max() + 1, step = 0.01))\n",
    "plt.contourf(X1, X2, lr.predict(np.array([X1.ravel(), X2.ravel()]).T).reshape(X1.shape),\n",
    "             alpha = 0.75, cmap = ListedColormap(('red', 'green')))\n",
    "plt.xlim(X1.min(), X1.max())\n",
    "plt.ylim(X2.min(), X2.max())\n",
    "for i, j in enumerate(np.unique(y_set)):\n",
    "    plt.scatter(X_set[y_set == j, 0], X_set[y_set == j, 1],\n",
    "                c = ListedColormap(('red', 'green'))(i), label = j)\n",
    "plt.title('Logistic Regression (Test set)')\n",
    "plt.xlabel('Age')\n",
    "plt.ylabel('Purchased')\n",
    "plt.legend()\n",
    "plt.show()"
   ]
  },
  {
   "cell_type": "code",
   "execution_count": 92,
   "id": "defc50cd",
   "metadata": {},
   "outputs": [
    {
     "name": "stdout",
     "output_type": "stream",
     "text": [
      "[[50  7]\n",
      " [ 6 17]]\n"
     ]
    }
   ],
   "source": [
    "print(cm)"
   ]
  },
  {
   "cell_type": "code",
   "execution_count": 94,
   "id": "b55f7d10",
   "metadata": {},
   "outputs": [
    {
     "data": {
      "text/plain": [
       "0.84"
      ]
     },
     "execution_count": 94,
     "metadata": {},
     "output_type": "execute_result"
    }
   ],
   "source": [
    "lr.score(X_test_select,y_test).round(2)"
   ]
  },
  {
   "cell_type": "markdown",
   "id": "5901fae9",
   "metadata": {},
   "source": [
    "Точность модели 84%, вероятностиошибок первого и второго типа почти одинаковы"
   ]
  },
  {
   "cell_type": "code",
   "execution_count": null,
   "id": "b968915e",
   "metadata": {},
   "outputs": [],
   "source": []
  }
 ],
 "metadata": {
  "kernelspec": {
   "display_name": "Python 3",
   "language": "python",
   "name": "python3"
  },
  "language_info": {
   "codemirror_mode": {
    "name": "ipython",
    "version": 3
   },
   "file_extension": ".py",
   "mimetype": "text/x-python",
   "name": "python",
   "nbconvert_exporter": "python",
   "pygments_lexer": "ipython3",
   "version": "3.8.8"
  }
 },
 "nbformat": 4,
 "nbformat_minor": 5
}
